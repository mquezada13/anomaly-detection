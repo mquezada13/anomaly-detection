{
 "cells": [
  {
   "cell_type": "markdown",
   "id": "a4f6aef2",
   "metadata": {},
   "source": [
    "# Credit Card Fraud Detection\n",
    "\n",
    "Author: Maura E. Ramirez-Quezada\n",
    "Description: The project uses the data set from (https://www.kaggle.com/datasets/mlg-ulb/creditcardfraud?resource=download). It contains 31 features and 284807 rtransitions which 492 are fraudalent. Te dataset is highly invalanced, with fraudalent transciptions representing only 0.17% of the total."
   ]
  },
  {
   "cell_type": "code",
   "execution_count": 57,
   "id": "7a2fc5dd",
   "metadata": {},
   "outputs": [],
   "source": [
    "import numpy as np\n",
    "import pandas as pd\n",
    "from sklearn.model_selection import train_test_split\n"
   ]
  },
  {
   "cell_type": "markdown",
   "id": "acf99321",
   "metadata": {},
   "source": [
    "## Data exploration"
   ]
  },
  {
   "cell_type": "markdown",
   "id": "b6abca82",
   "metadata": {},
   "source": [
    "We start by loading the dataset to understand its structure and asses data quality."
   ]
  },
  {
   "cell_type": "code",
   "execution_count": 9,
   "id": "a3a4faa5",
   "metadata": {},
   "outputs": [],
   "source": [
    "\n",
    "# Loading data\n",
    "file_data = pd.read_csv('../data/creditcard.csv')"
   ]
  },
  {
   "cell_type": "code",
   "execution_count": 43,
   "id": "abdb66e0",
   "metadata": {},
   "outputs": [
    {
     "name": "stdout",
     "output_type": "stream",
     "text": [
      "(rows,columns): (284807, 31)\n",
      "dataset features: Index(['Time', 'V1', 'V2', 'V3', 'V4', 'V5', 'V6', 'V7', 'V8', 'V9', 'V10',\n",
      "       'V11', 'V12', 'V13', 'V14', 'V15', 'V16', 'V17', 'V18', 'V19', 'V20',\n",
      "       'V21', 'V22', 'V23', 'V24', 'V25', 'V26', 'V27', 'V28', 'Amount',\n",
      "       'Class'],\n",
      "      dtype='object')\n",
      "Dataset structure\n",
      "   Time        V1        V2        V3        V4        V5        V6        V7  \\\n",
      "0   0.0 -1.359807 -0.072781  2.536347  1.378155 -0.338321  0.462388  0.239599   \n",
      "\n",
      "         V8        V9  ...       V21       V22       V23       V24       V25  \\\n",
      "0  0.098698  0.363787  ... -0.018307  0.277838 -0.110474  0.066928  0.128539   \n",
      "\n",
      "        V26       V27       V28  Amount  Class  \n",
      "0 -0.189115  0.133558 -0.021053  149.62      0  \n",
      "\n",
      "[1 rows x 31 columns]\n",
      "dataset null values\n",
      "Time      0\n",
      "V1        0\n",
      "V2        0\n",
      "V3        0\n",
      "V4        0\n",
      "V5        0\n",
      "V6        0\n",
      "V7        0\n",
      "V8        0\n",
      "V9        0\n",
      "V10       0\n",
      "V11       0\n",
      "V12       0\n",
      "V13       0\n",
      "V14       0\n",
      "V15       0\n",
      "V16       0\n",
      "V17       0\n",
      "V18       0\n",
      "V19       0\n",
      "V20       0\n",
      "V21       0\n",
      "V22       0\n",
      "V23       0\n",
      "V24       0\n",
      "V25       0\n",
      "V26       0\n",
      "V27       0\n",
      "V28       0\n",
      "Amount    0\n",
      "Class     0\n",
      "dtype: int64\n"
     ]
    }
   ],
   "source": [
    "# basic info\n",
    "print(\"(rows,columns):\", file_data.shape)\n",
    "print(\"dataset features:\", file_data.columns)\n",
    "print(\"Dataset structure\")\n",
    "print(file_data.head(1))\n",
    "print(\"dataset null values\")\n",
    "print(file_data.isnull().sum())\n"
   ]
  },
  {
   "cell_type": "markdown",
   "id": "50c7d7fe",
   "metadata": {},
   "source": [
    "No missing values were found. Features are anonymized (V1 to V28) plus \"time\" and the target column \"Class\""
   ]
  },
  {
   "cell_type": "code",
   "execution_count": 44,
   "id": "e967086c",
   "metadata": {},
   "outputs": [
    {
     "name": "stdout",
     "output_type": "stream",
     "text": [
      "0    284315\n",
      "1       492\n",
      "Name: Class, dtype: int64\n",
      "0    0.998273\n",
      "1    0.001727\n",
      "Name: Class, dtype: float64\n"
     ]
    }
   ],
   "source": [
    "# Class distribution\n",
    "print(file_data['Class'].value_counts())\n",
    "print(file_data['Class'].value_counts(normalize = True))"
   ]
  },
  {
   "cell_type": "markdown",
   "id": "68c1ef48",
   "metadata": {},
   "source": [
    "## Sorting data for training"
   ]
  },
  {
   "cell_type": "markdown",
   "id": "87f9b29f",
   "metadata": {},
   "source": [
    "Separating features from output column 'Class' to inizialize the training"
   ]
  },
  {
   "cell_type": "code",
   "execution_count": 52,
   "id": "1d49fcc2",
   "metadata": {},
   "outputs": [
    {
     "name": "stdout",
     "output_type": "stream",
     "text": [
      "(284807, 30)\n",
      "(284807,)\n"
     ]
    }
   ],
   "source": [
    "X_features = file_data[['Time', 'V1', 'V2', 'V3', 'V4', 'V5', 'V6', 'V7', 'V8', 'V9', 'V10',\n",
    "       'V11', 'V12', 'V13', 'V14', 'V15', 'V16', 'V17', 'V18', 'V19', 'V20',\n",
    "       'V21', 'V22', 'V23', 'V24', 'V25', 'V26', 'V27', 'V28', 'Amount']]\n",
    "Y_output = file_data['Class']\n",
    "# Checking that X and Y are correct in dimension\n",
    "print(X_features.shape)\n",
    "print(Y_output.shape)\n"
   ]
  },
  {
   "cell_type": "markdown",
   "id": "4ec2d365",
   "metadata": {},
   "source": [
    "SPliting dataset for training and testing using the library sklearn."
   ]
  },
  {
   "cell_type": "code",
   "execution_count": null,
   "id": "13e2730d",
   "metadata": {},
   "outputs": [
    {
     "name": "stdout",
     "output_type": "stream",
     "text": [
      "(227845, 30) (56962, 30)\n",
      "(227845,) (56962,)\n"
     ]
    }
   ],
   "source": [
    "X_train, X_test, Y_train, Y_test = train_test_split(X_features, Y_output,test_size = 0.2, random_state = 42) # 80/20 \n",
    "print(X_train.shape, X_test.shape)\n",
    "print(Y_train.shape, Y_test.shape)"
   ]
  },
  {
   "cell_type": "code",
   "execution_count": null,
   "id": "b659a3da",
   "metadata": {},
   "outputs": [],
   "source": []
  }
 ],
 "metadata": {
  "kernelspec": {
   "display_name": "Python (ML Project)",
   "language": "python",
   "name": "ml-env"
  },
  "language_info": {
   "codemirror_mode": {
    "name": "ipython",
    "version": 3
   },
   "file_extension": ".py",
   "mimetype": "text/x-python",
   "name": "python",
   "nbconvert_exporter": "python",
   "pygments_lexer": "ipython3",
   "version": "3.9.6"
  }
 },
 "nbformat": 4,
 "nbformat_minor": 5
}
